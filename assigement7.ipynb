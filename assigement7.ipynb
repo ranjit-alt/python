{
 "cells": [
  {
   "cell_type": "code",
   "execution_count": 5,
   "id": "d04e435a-8bb1-4756-9ee8-299f8adc19df",
   "metadata": {},
   "outputs": [],
   "source": [
    "# 1. What is the name of the feature responsible for generating Regex objects?\n",
    "\n",
    "# Ans : re module is used for generation of Regex objects {re.compitle()}"
   ]
  },
  {
   "cell_type": "code",
   "execution_count": 6,
   "id": "6772d04b-6ad4-4773-b6fa-fb21d47d435a",
   "metadata": {},
   "outputs": [],
   "source": [
    "# 2. Why do raw strings often appear in Regex objects?\n",
    "\n",
    "# ans: to prevent backslash from excaping.\n"
   ]
  },
  {
   "cell_type": "code",
   "execution_count": 7,
   "id": "56b35954-432a-43e5-b0a4-325816d9cc3f",
   "metadata": {},
   "outputs": [],
   "source": [
    "\n",
    "# 3. What is the return value of the search() method?\n",
    "\n",
    "# Ans: if it finds the pattern then it returns matchable object or else none.\n"
   ]
  },
  {
   "cell_type": "code",
   "execution_count": 8,
   "id": "b1d485fb-9911-4d6c-a1b8-7e5d00412caf",
   "metadata": {},
   "outputs": [],
   "source": [
    "# 4. From a Match item, how do you get the actual strings that match the pattern?\n",
    "\n",
    "# Ans: group() method returns matched pattern\n"
   ]
  },
  {
   "cell_type": "code",
   "execution_count": 9,
   "id": "71d5723c-14b9-4c8a-b907-22c59d2642db",
   "metadata": {},
   "outputs": [],
   "source": [
    "# 5. In the regex which created from the r'(\\d\\d\\d)-(\\d\\d\\d-\\d\\d\\d\\d)', what does group zero cover? Group 2? Group 1?\n",
    "\n",
    "# group 0 covers whole part\n",
    "\n",
    "# group 1 covers first part\n",
    "\n",
    "# group 2 covers second part\n"
   ]
  },
  {
   "cell_type": "code",
   "execution_count": 10,
   "id": "a899e400-4a3d-4726-aef3-e2876c34718f",
   "metadata": {},
   "outputs": [],
   "source": [
    "# 6. In standard expression syntax, parentheses and intervals have distinct meanings. How can you tell a regex that you want it to fit real parentheses and periods?\n",
    "\n",
    "  #   \\., \\(, and \\)\n",
    "\n"
   ]
  },
  {
   "cell_type": "code",
   "execution_count": 11,
   "id": "f0b7b39f-6704-4ef2-9fbe-38c20e3d08e0",
   "metadata": {},
   "outputs": [],
   "source": [
    "# 7. The findall() method returns a string list or a list of string tuples. What causes it to return one of the two options?\n",
    "\n",
    "# ans: when we enclose our pattern inside \"()\" it will return tuple when we enclose our pattern without using \"()\" it will return tuple."
   ]
  },
  {
   "cell_type": "code",
   "execution_count": 12,
   "id": "022e899c-d5cc-44a3-9fb0-450ed29e23a8",
   "metadata": {},
   "outputs": [],
   "source": [
    "# 8. In standard expressions, what does the | character mean?\n",
    "\n",
    "# in standard ecpression \" | \" means Alternation\n"
   ]
  },
  {
   "cell_type": "code",
   "execution_count": 13,
   "id": "62ce4874-2a99-4ec2-a7a0-29ed5a55b126",
   "metadata": {},
   "outputs": [],
   "source": [
    "#  9. In regular expressions, what does the ? character stand for?\n",
    "\n",
    "# ans: it stands for match zero or one of the preceding group\n"
   ]
  },
  {
   "cell_type": "code",
   "execution_count": 14,
   "id": "cc472f82-ae9b-4eff-b5d0-8ecb7890474e",
   "metadata": {},
   "outputs": [],
   "source": [
    "#  10.In regular expressions, what is the difference between the + and * characters?\n",
    "# + means one or more\n",
    "# * means zero or more"
   ]
  },
  {
   "cell_type": "code",
   "execution_count": 15,
   "id": "53151ad3-3fb9-4ca4-a1c1-9541e6b39c2c",
   "metadata": {},
   "outputs": [],
   "source": [
    "#  11. What is the difference between {4} and {4,5} in regular expression?\n",
    "\n",
    "# {4} Matches the expression to its left 4 times, and not less.\n",
    "\n",
    "# {4,5) Matches the expression to its left 4 to 5 times, and not less.\n"
   ]
  },
  {
   "cell_type": "code",
   "execution_count": 16,
   "id": "b1f9598a-4989-458c-9221-7c7ee33c1376",
   "metadata": {},
   "outputs": [],
   "source": [
    "# 12. What do you mean by the \\d, \\w, and \\s shorthand character classes signify in regular expressions?\n",
    "\n",
    "# \\d Matches digits, which means 0-9.\n",
    "\n",
    "# \\w Matches alphanumeric characters, which means a-z, A-Z, and 0-9. It also matches the underscore, _.\n",
    "\n",
    "# \\s Matches whitespace characters, which include the \\t, \\n, \\r, and space characters.\n"
   ]
  },
  {
   "cell_type": "code",
   "execution_count": 17,
   "id": "a5a2341c-054a-4f41-a486-2e267ecf6501",
   "metadata": {},
   "outputs": [],
   "source": [
    "# 13. What do means by \\D, \\W, and \\S shorthand character classes signify in regular expressions?\n",
    "\n",
    "# \\D Matches any non-digits.\n",
    "\n",
    "# \\W Matches any non-word character.\n",
    "\n",
    "# \\S Matches non-whitespace characters.\n"
   ]
  },
  {
   "cell_type": "code",
   "execution_count": 18,
   "id": "060f53c7-2d1d-4ad9-bce5-dcce0e40ee32",
   "metadata": {},
   "outputs": [],
   "source": [
    "# 14. What is the difference between . ? and . ?\n",
    "\n",
    "# .? adds ?, a quantifier that matches the preceding element (the \".\" here) 0 or 1 times.\n",
    "\n",
    "# .* adds *, a quantifier that matches the preceding element (the \".\" here) 0 or more times.\n"
   ]
  },
  {
   "cell_type": "code",
   "execution_count": 19,
   "id": "e73953e9-c4ec-4d0d-b069-c07ee5cc465f",
   "metadata": {},
   "outputs": [],
   "source": [
    "# 15. What is the syntax for matching both numbers and lowercase letters with a character class?"
   ]
  },
  {
   "cell_type": "code",
   "execution_count": 20,
   "id": "7a6c1399-e70b-4674-b342-f994d6793be2",
   "metadata": {},
   "outputs": [],
   "source": [
    " import re"
   ]
  },
  {
   "cell_type": "code",
   "execution_count": 21,
   "id": "9bf0b23b-4d4b-4bde-bf95-8e34753d92c5",
   "metadata": {},
   "outputs": [],
   "source": [
    "def match(text):\n",
    "    patterns = '^[a-z0-9]*$'\n",
    "    if re.search(patterns,text):\n",
    "        return \"matched\"\n",
    "    else:\n",
    "        return\"not matched\""
   ]
  },
  {
   "cell_type": "code",
   "execution_count": 22,
   "id": "faa64e4b-85c3-4784-b35c-f1bf6f03ea54",
   "metadata": {},
   "outputs": [
    {
     "name": "stdout",
     "output_type": "stream",
     "text": [
      "not matched\n"
     ]
    }
   ],
   "source": [
    "print(match(\"Ranjit kumar Behera\"))"
   ]
  },
  {
   "cell_type": "code",
   "execution_count": 23,
   "id": "80610a2a-3ea9-468f-8274-996dd3deeacd",
   "metadata": {},
   "outputs": [],
   "source": [
    "# 16. What is the procedure for making a normal expression in regax case insensitive?\n",
    "\n",
    "# use re.IGNORECASE to search, match, or sub\n"
   ]
  },
  {
   "cell_type": "code",
   "execution_count": 24,
   "id": "753828cf-cbfe-4f9f-8dcb-8eccb026a9df",
   "metadata": {},
   "outputs": [],
   "source": [
    "# 17. What does the . character normally match? What does it match if re.DOTALL is passed as 2nd argument in re.compile()?\n",
    "\n",
    "# dot character matches everything in input except newline character\n",
    "\n",
    "# By passing re. DOTALL as the second argument to re. compile() , you can make the dot character match all characters, including the newline character.\n"
   ]
  },
  {
   "cell_type": "code",
   "execution_count": 29,
   "id": "14a2cd97-372c-45d9-8273-9c081bc921b2",
   "metadata": {},
   "outputs": [],
   "source": [
    "# 18. If numReg = re.compile(r'\\d+'), what will numRegex.sub('X', '11 drummers, 10 pipers, five rings, 4 hen') return?\n",
    "\n",
    "# 'X drummers, X pipers, five rings, X hens'\n"
   ]
  },
  {
   "cell_type": "code",
   "execution_count": 26,
   "id": "9051e4dc-b850-4b69-86cd-e6b5d8f3bb9b",
   "metadata": {},
   "outputs": [],
   "source": [
    "# 19. What does passing re.VERBOSE as the 2nd argument to re.compile() allow to do?\n",
    "\n",
    "# it will allow to add whitespace and comments to string passed to re.compile().\n"
   ]
  },
  {
   "cell_type": "code",
   "execution_count": 28,
   "id": "c1f34249-8468-4a1c-8a26-de6a3565e2ce",
   "metadata": {},
   "outputs": [
    {
     "ename": "SyntaxError",
     "evalue": "invalid syntax. Perhaps you forgot a comma? (1507286815.py, line 11)",
     "output_type": "error",
     "traceback": [
      "\u001b[0;36m  Cell \u001b[0;32mIn [28], line 11\u001b[0;36m\u001b[0m\n\u001b[0;31m    '12,34,567' (which has only two digits between the commas)\u001b[0m\n\u001b[0m                 ^\u001b[0m\n\u001b[0;31mSyntaxError\u001b[0m\u001b[0;31m:\u001b[0m invalid syntax. Perhaps you forgot a comma?\n"
     ]
    }
   ],
   "source": [
    "# 20. How would you write a regex that match a number with comma for every three digits? It must match the given following:\n",
    "\n",
    "'42'\n",
    "\n",
    "'1,234'\n",
    "\n",
    "'6,368,745'\n",
    "\n",
    "# but not the following:\n",
    "\n",
    "'12,34,567' (which has only two digits between the commas)\n",
    "\n",
    "'1234' (which lacks commas)\n"
   ]
  },
  {
   "cell_type": "code",
   "execution_count": 30,
   "id": "f5922578-a5ce-44b4-b352-09ebf2297be1",
   "metadata": {},
   "outputs": [
    {
     "data": {
      "text/plain": [
       "re.compile(r'^\\d{1,3}(,\\d{3})*$', re.UNICODE)"
      ]
     },
     "execution_count": 30,
     "metadata": {},
     "output_type": "execute_result"
    }
   ],
   "source": [
    "re.compile(r'^\\d{1,3}(,\\d{3})*$')"
   ]
  },
  {
   "cell_type": "code",
   "execution_count": 31,
   "id": "1badc22a-153a-4838-b203-827e533fc1d4",
   "metadata": {},
   "outputs": [
    {
     "ename": "SyntaxError",
     "evalue": "invalid syntax (1576728003.py, line 9)",
     "output_type": "error",
     "traceback": [
      "\u001b[0;36m  Cell \u001b[0;32mIn [31], line 9\u001b[0;36m\u001b[0m\n\u001b[0;31m    but not the following:\u001b[0m\n\u001b[0m            ^\u001b[0m\n\u001b[0;31mSyntaxError\u001b[0m\u001b[0;31m:\u001b[0m invalid syntax\n"
     ]
    }
   ],
   "source": [
    "# 21. How would you write a regex that matches the full name of someone whose last name is Watanabe? You can assume that the first name that comes before it will always be one word that begins with a capital letter. The regex must match the following:\n",
    "\n",
    "'Haruto Watanabe'\n",
    "\n",
    "'Alice Watanabe'\n",
    "\n",
    "'RoboCop Watanabe'\n",
    "\n",
    "but not the following:\n",
    "\n",
    "'haruto Watanabe' (where the first name is not capitalized)\n",
    "\n",
    "'Mr. Watanabe' (where the preceding word has a nonletter character)\n",
    "\n",
    "'Watanabe' (which has no first name)\n",
    "\n",
    "'Haruto watanabe' (where Watanabe is not capitalized)\n"
   ]
  },
  {
   "cell_type": "code",
   "execution_count": 32,
   "id": "26873eeb-12dd-4597-bd16-119eda0041ac",
   "metadata": {},
   "outputs": [
    {
     "data": {
      "text/plain": [
       "re.compile(r'[A-Z][a-z]*\\sNakamoto', re.UNICODE)"
      ]
     },
     "execution_count": 32,
     "metadata": {},
     "output_type": "execute_result"
    }
   ],
   "source": [
    "re.compile(r'[A-Z][a-z]*\\sNakamoto')"
   ]
  },
  {
   "cell_type": "code",
   "execution_count": null,
   "id": "a58ac442-79c7-4a2a-a490-534188e3c0d3",
   "metadata": {},
   "outputs": [],
   "source": [
    "# 22. How would you write a regex that matches a sentence where the first word is either Alice, Bob,or Carol; the second word is either eats, pets, or throws; the third word is apples, cats, or baseballs; and the sentence ends with a period? This regex should be case-insensitive. It must match the following:\n",
    "\n",
    "'Alice eats apples.'\n",
    "\n",
    "'Bob pets cats.'\n",
    "\n",
    "'Carol throws baseballs.'\n",
    "\n",
    "'Alice throws Apples.'\n",
    "\n",
    "'BOB EATS CATS.'\n",
    "\n",
    "but not the following: 'RoboCop eats apples.'\n",
    "\n",
    "'ALICE THROWS FOOTBALLS.'\n",
    "\n",
    "'Carol eats 7 cats.'"
   ]
  }
 ],
 "metadata": {
  "kernelspec": {
   "display_name": "Python 3 (ipykernel)",
   "language": "python",
   "name": "python3"
  },
  "language_info": {
   "codemirror_mode": {
    "name": "ipython",
    "version": 3
   },
   "file_extension": ".py",
   "mimetype": "text/x-python",
   "name": "python",
   "nbconvert_exporter": "python",
   "pygments_lexer": "ipython3",
   "version": "3.10.6"
  }
 },
 "nbformat": 4,
 "nbformat_minor": 5
}
